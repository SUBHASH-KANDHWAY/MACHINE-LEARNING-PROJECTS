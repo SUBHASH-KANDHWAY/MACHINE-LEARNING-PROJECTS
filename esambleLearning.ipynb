{
  "nbformat": 4,
  "nbformat_minor": 0,
  "metadata": {
    "colab": {
      "name": "esambleLearning.ipynb",
      "provenance": [],
      "collapsed_sections": [],
      "authorship_tag": "ABX9TyMgm8E7ubATrqSqtRULF7xg",
      "include_colab_link": true
    },
    "kernelspec": {
      "name": "python3",
      "display_name": "Python 3"
    }
  },
  "cells": [
    {
      "cell_type": "markdown",
      "metadata": {
        "id": "view-in-github",
        "colab_type": "text"
      },
      "source": [
        "<a href=\"https://colab.research.google.com/github/SUBHASH-KANDHWAY/MACHINE-LEARNING-PROJECTS/blob/master/esambleLearning.ipynb\" target=\"_parent\"><img src=\"https://colab.research.google.com/assets/colab-badge.svg\" alt=\"Open In Colab\"/></a>"
      ]
    },
    {
      "cell_type": "code",
      "metadata": {
        "id": "cfiWWLSC8kUu",
        "colab_type": "code",
        "colab": {
          "base_uri": "https://localhost:8080/",
          "height": 34
        },
        "outputId": "1d6a48d2-abb5-4eb6-8c35-2f19ae444ca0"
      },
      "source": [
        "import numpy as np\n",
        "import pandas as pd\n",
        "data_set=pd.read_csv('data_cleaned.csv')\n",
        "data_set.head\n",
        "data_set.shape"
      ],
      "execution_count": 2,
      "outputs": [
        {
          "output_type": "execute_result",
          "data": {
            "text/plain": [
              "(891, 25)"
            ]
          },
          "metadata": {
            "tags": []
          },
          "execution_count": 2
        }
      ]
    },
    {
      "cell_type": "code",
      "metadata": {
        "id": "LlyuqfKUH9so",
        "colab_type": "code",
        "colab": {}
      },
      "source": [
        "x=data_set.drop(['Survived'],axis=1)\n",
        "y=data_set['Survived']"
      ],
      "execution_count": 3,
      "outputs": []
    },
    {
      "cell_type": "code",
      "metadata": {
        "id": "LKVWpgTBIwRL",
        "colab_type": "code",
        "colab": {}
      },
      "source": [
        "from sklearn.model_selection import   train_test_split\n",
        "trainx,testx,trainy,testy=train_test_split(x,y,random_state=101,stratify=y)"
      ],
      "execution_count": 4,
      "outputs": []
    },
    {
      "cell_type": "code",
      "metadata": {
        "id": "JNRcM9yjKWa8",
        "colab_type": "code",
        "colab": {
          "base_uri": "https://localhost:8080/",
          "height": 67
        },
        "outputId": "9bc2579a-d7e0-4775-999e-23f5db838ffd"
      },
      "source": [
        "trainy.value_counts()/len(testy)"
      ],
      "execution_count": 5,
      "outputs": [
        {
          "output_type": "execute_result",
          "data": {
            "text/plain": [
              "0    1.847534\n",
              "1    1.147982\n",
              "Name: Survived, dtype: float64"
            ]
          },
          "metadata": {
            "tags": []
          },
          "execution_count": 5
        }
      ]
    },
    {
      "cell_type": "code",
      "metadata": {
        "id": "BARVsoz7K7qJ",
        "colab_type": "code",
        "colab": {
          "base_uri": "https://localhost:8080/",
          "height": 118
        },
        "outputId": "bce3f353-f06a-41b5-dfff-718a8840e1bc"
      },
      "source": [
        "from sklearn.tree import  DecisionTreeClassifier\n",
        "clf=DecisionTreeClassifier()\n",
        "clf.fit(trainx,trainy)"
      ],
      "execution_count": 6,
      "outputs": [
        {
          "output_type": "execute_result",
          "data": {
            "text/plain": [
              "DecisionTreeClassifier(ccp_alpha=0.0, class_weight=None, criterion='gini',\n",
              "                       max_depth=None, max_features=None, max_leaf_nodes=None,\n",
              "                       min_impurity_decrease=0.0, min_impurity_split=None,\n",
              "                       min_samples_leaf=1, min_samples_split=2,\n",
              "                       min_weight_fraction_leaf=0.0, presort='deprecated',\n",
              "                       random_state=None, splitter='best')"
            ]
          },
          "metadata": {
            "tags": []
          },
          "execution_count": 6
        }
      ]
    },
    {
      "cell_type": "code",
      "metadata": {
        "id": "3BHsziQzLQZJ",
        "colab_type": "code",
        "colab": {
          "base_uri": "https://localhost:8080/",
          "height": 34
        },
        "outputId": "c8c5c5da-3b42-4bd8-d787-6f98666ef50f"
      },
      "source": [
        "clf.score(trainx,trainy)"
      ],
      "execution_count": 7,
      "outputs": [
        {
          "output_type": "execute_result",
          "data": {
            "text/plain": [
              "0.9880239520958084"
            ]
          },
          "metadata": {
            "tags": []
          },
          "execution_count": 7
        }
      ]
    },
    {
      "cell_type": "code",
      "metadata": {
        "id": "Mcb5X_8DLca7",
        "colab_type": "code",
        "colab": {
          "base_uri": "https://localhost:8080/",
          "height": 34
        },
        "outputId": "0a2e9cd0-1fc7-40f4-f205-7cac1181967a"
      },
      "source": [
        "clf.score(testx,testy)"
      ],
      "execution_count": 8,
      "outputs": [
        {
          "output_type": "execute_result",
          "data": {
            "text/plain": [
              "0.7443946188340808"
            ]
          },
          "metadata": {
            "tags": []
          },
          "execution_count": 8
        }
      ]
    },
    {
      "cell_type": "code",
      "metadata": {
        "id": "7YInoUjyPrig",
        "colab_type": "code",
        "colab": {
          "base_uri": "https://localhost:8080/",
          "height": 34
        },
        "outputId": "937bd732-5d91-47e3-b098-99740f9c841a"
      },
      "source": [
        "from sklearn.ensemble import RandomForestClassifier\n",
        "clf=RandomForestClassifier()\n",
        "clf.fit(trainx,trainy)\n",
        "clf.score(trainx,trainy)"
      ],
      "execution_count": 9,
      "outputs": [
        {
          "output_type": "execute_result",
          "data": {
            "text/plain": [
              "0.9880239520958084"
            ]
          },
          "metadata": {
            "tags": []
          },
          "execution_count": 9
        }
      ]
    },
    {
      "cell_type": "code",
      "metadata": {
        "id": "f9xdkGdxP_8q",
        "colab_type": "code",
        "colab": {
          "base_uri": "https://localhost:8080/",
          "height": 437
        },
        "outputId": "e387cd4c-254e-48f8-d37d-cf22769e9811"
      },
      "source": [
        "clf.feature_importances_\n",
        "pd.Series(clf.feature_importances_,index=trainx.columns)"
      ],
      "execution_count": 11,
      "outputs": [
        {
          "output_type": "execute_result",
          "data": {
            "text/plain": [
              "Age           0.232047\n",
              "Fare          0.237946\n",
              "Pclass_1      0.028693\n",
              "Pclass_2      0.015827\n",
              "Pclass_3      0.044520\n",
              "Sex_female    0.144195\n",
              "Sex_male      0.166833\n",
              "SibSp_0       0.012014\n",
              "SibSp_1       0.015979\n",
              "SibSp_2       0.006107\n",
              "SibSp_3       0.004710\n",
              "SibSp_4       0.003788\n",
              "SibSp_5       0.000715\n",
              "SibSp_8       0.002416\n",
              "Parch_0       0.016791\n",
              "Parch_1       0.013236\n",
              "Parch_2       0.011413\n",
              "Parch_3       0.001682\n",
              "Parch_4       0.002640\n",
              "Parch_5       0.002553\n",
              "Parch_6       0.000577\n",
              "Embarked_C    0.012086\n",
              "Embarked_Q    0.008905\n",
              "Embarked_S    0.014325\n",
              "dtype: float64"
            ]
          },
          "metadata": {
            "tags": []
          },
          "execution_count": 11
        }
      ]
    },
    {
      "cell_type": "code",
      "metadata": {
        "id": "8-i2IwT1QsOS",
        "colab_type": "code",
        "colab": {}
      },
      "source": [
        ""
      ],
      "execution_count": null,
      "outputs": []
    }
  ]
}