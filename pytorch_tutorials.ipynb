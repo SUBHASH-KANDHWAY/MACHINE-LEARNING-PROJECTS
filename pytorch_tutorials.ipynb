{
  "nbformat": 4,
  "nbformat_minor": 0,
  "metadata": {
    "colab": {
      "name": "pytorch_tutorials.ipynb",
      "provenance": [],
      "collapsed_sections": [],
      "authorship_tag": "ABX9TyMprn9NVzLK8tuW3CiTcgrc",
      "include_colab_link": true
    },
    "kernelspec": {
      "name": "python3",
      "display_name": "Python 3"
    }
  },
  "cells": [
    {
      "cell_type": "markdown",
      "metadata": {
        "id": "view-in-github",
        "colab_type": "text"
      },
      "source": [
        "<a href=\"https://colab.research.google.com/github/SUBHASH-KANDHWAY/MACHINE-LEARNING-PROJECTS/blob/master/pytorch_tutorials.ipynb\" target=\"_parent\"><img src=\"https://colab.research.google.com/assets/colab-badge.svg\" alt=\"Open In Colab\"/></a>"
      ]
    },
    {
      "cell_type": "code",
      "metadata": {
        "id": "rsOr8KbEkW0u",
        "colab_type": "code",
        "colab": {
          "base_uri": "https://localhost:8080/",
          "height": 70
        },
        "outputId": "b724f8a8-c4b1-4ade-accb-b9f576f04769"
      },
      "source": [
        "import torch\n",
        "import numpy as np\n",
        "a=np.zeros((3,3))\n",
        "print(a)"
      ],
      "execution_count": 6,
      "outputs": [
        {
          "output_type": "stream",
          "text": [
            "[[0. 0. 0.]\n",
            " [0. 0. 0.]\n",
            " [0. 0. 0.]]\n"
          ],
          "name": "stdout"
        }
      ]
    },
    {
      "cell_type": "code",
      "metadata": {
        "id": "eafm5o-DlMq9",
        "colab_type": "code",
        "colab": {}
      },
      "source": [
        "np.random.seed(42)"
      ],
      "execution_count": 2,
      "outputs": []
    },
    {
      "cell_type": "code",
      "metadata": {
        "id": "ftowkof1lr8x",
        "colab_type": "code",
        "colab": {}
      },
      "source": [
        "a=np.random.randn(3,3)"
      ],
      "execution_count": 3,
      "outputs": []
    },
    {
      "cell_type": "code",
      "metadata": {
        "id": "OkbqEGhllzmn",
        "colab_type": "code",
        "colab": {
          "base_uri": "https://localhost:8080/",
          "height": 70
        },
        "outputId": "39f3f179-8498-466d-c9e4-4e5182843ac2"
      },
      "source": [
        "print(a)"
      ],
      "execution_count": 4,
      "outputs": [
        {
          "output_type": "stream",
          "text": [
            "[[ 0.49671415 -0.1382643   0.64768854]\n",
            " [ 1.52302986 -0.23415337 -0.23413696]\n",
            " [ 1.57921282  0.76743473 -0.46947439]]\n"
          ],
          "name": "stdout"
        }
      ]
    },
    {
      "cell_type": "code",
      "metadata": {
        "id": "9UIf7J-hl30X",
        "colab_type": "code",
        "colab": {
          "base_uri": "https://localhost:8080/",
          "height": 35
        },
        "outputId": "a572e790-1aab-4425-c468-0129bd74f1f9"
      },
      "source": [
        "torch.manual_seed(40) "
      ],
      "execution_count": 7,
      "outputs": [
        {
          "output_type": "execute_result",
          "data": {
            "text/plain": [
              "<torch._C.Generator at 0x7fef8529a258>"
            ]
          },
          "metadata": {
            "tags": []
          },
          "execution_count": 7
        }
      ]
    },
    {
      "cell_type": "code",
      "metadata": {
        "id": "BtTKUgbXl_rG",
        "colab_type": "code",
        "colab": {
          "base_uri": "https://localhost:8080/",
          "height": 239
        },
        "outputId": "34807493-e7e5-4acb-9b2c-4155f2250681"
      },
      "source": [
        "a=torch.randn()"
      ],
      "execution_count": 8,
      "outputs": [
        {
          "output_type": "error",
          "ename": "TypeError",
          "evalue": "ignored",
          "traceback": [
            "\u001b[0;31m---------------------------------------------------------------------------\u001b[0m",
            "\u001b[0;31mTypeError\u001b[0m                                 Traceback (most recent call last)",
            "\u001b[0;32m<ipython-input-8-408662370929>\u001b[0m in \u001b[0;36m<module>\u001b[0;34m()\u001b[0m\n\u001b[0;32m----> 1\u001b[0;31m \u001b[0ma\u001b[0m\u001b[0;34m=\u001b[0m\u001b[0mtorch\u001b[0m\u001b[0;34m.\u001b[0m\u001b[0mrandn\u001b[0m\u001b[0;34m(\u001b[0m\u001b[0;34m)\u001b[0m\u001b[0;34m\u001b[0m\u001b[0;34m\u001b[0m\u001b[0m\n\u001b[0m",
            "\u001b[0;31mTypeError\u001b[0m: randn() received an invalid combination of arguments - got (), but expected one of:\n * (tuple of ints size, *, tuple of names names, torch.dtype dtype, torch.layout layout, torch.device device, bool pin_memory, bool requires_grad)\n * (tuple of ints size, *, torch.Generator generator, tuple of names names, torch.dtype dtype, torch.layout layout, torch.device device, bool pin_memory, bool requires_grad)\n * (tuple of ints size, *, torch.Generator generator, Tensor out, torch.dtype dtype, torch.layout layout, torch.device device, bool pin_memory, bool requires_grad)\n * (tuple of ints size, *, Tensor out, torch.dtype dtype, torch.layout layout, torch.device device, bool pin_memory, bool requires_grad)\n"
          ]
        }
      ]
    },
    {
      "cell_type": "code",
      "metadata": {
        "id": "RLn6oqV4mI2q",
        "colab_type": "code",
        "colab": {
          "base_uri": "https://localhost:8080/",
          "height": 230
        },
        "outputId": "00ccbc6e-8d28-4beb-b575-42563f1c1b25"
      },
      "source": [
        "a=np.random.randn(3,3)\n",
        "b=np.random.randn(3,3)\n",
        "print(np.dot(a,b))\n",
        "print(np.add(a,b))\n",
        "print(np.subtract(a,b))\n",
        "print(np.divide(a,b))"
      ],
      "execution_count": 9,
      "outputs": [
        {
          "output_type": "stream",
          "text": [
            "[[-0.13449362 -0.84921327  1.99150793]\n",
            " [ 1.15128124 -0.66225694  5.06594361]\n",
            " [ 0.56817306  0.76058322  0.25721662]]\n",
            "[[-0.36546403 -1.87572139  0.99991902]\n",
            " [ 0.01618597 -1.84575204 -3.14966602]\n",
            " [-1.10667025 -0.90190853 -0.83674624]]\n",
            "[[ 1.45058412  0.94888601 -1.93137852]\n",
            " [ 0.46773857 -1.98080845 -0.30016965]\n",
            " [-0.0179048  -1.12375371  1.46524091]]\n",
            "[[ -0.59751724   0.32812892  -0.31776355]\n",
            " [ -1.0716903  -28.33305363   1.2106826 ]\n",
            " [  1.0328901   -9.13097254  -0.27302266]]\n"
          ],
          "name": "stdout"
        }
      ]
    },
    {
      "cell_type": "code",
      "metadata": {
        "id": "boCTHvU3nBOO",
        "colab_type": "code",
        "colab": {
          "base_uri": "https://localhost:8080/",
          "height": 67
        },
        "outputId": "df04b9bc-9a98-4c2c-9622-6d29cc451c72"
      },
      "source": [
        "print(np.transpose(np.divide(a,b)))"
      ],
      "execution_count": null,
      "outputs": [
        {
          "output_type": "stream",
          "text": [
            "[[  0.78242563   1.4680216    2.07097081]\n",
            " [  0.74667582  -4.3708542  -12.4683882 ]\n",
            " [  0.26704742   0.37131242   0.83045489]]\n"
          ],
          "name": "stdout"
        }
      ]
    },
    {
      "cell_type": "code",
      "metadata": {
        "id": "L401iE-tnUhm",
        "colab_type": "code",
        "colab": {
          "base_uri": "https://localhost:8080/",
          "height": 34
        },
        "outputId": "c66f527d-5113-4f4c-e424-98c88c2870c7"
      },
      "source": [
        "import torch\n",
        "a=torch.randn(3,3)\n",
        "torch.t(a)\n",
        "print(type(a))"
      ],
      "execution_count": null,
      "outputs": [
        {
          "output_type": "stream",
          "text": [
            "<class 'torch.Tensor'>\n"
          ],
          "name": "stdout"
        }
      ]
    },
    {
      "cell_type": "code",
      "metadata": {
        "id": "cRyApdIKpTRj",
        "colab_type": "code",
        "colab": {
          "base_uri": "https://localhost:8080/",
          "height": 34
        },
        "outputId": "2e30f8f0-e939-424d-d577-8da273a4385b"
      },
      "source": [
        "b=torch.tensor(1)\n",
        "print(b)"
      ],
      "execution_count": null,
      "outputs": [
        {
          "output_type": "stream",
          "text": [
            "tensor(1)\n"
          ],
          "name": "stdout"
        }
      ]
    },
    {
      "cell_type": "code",
      "metadata": {
        "id": "e7dGJNbwpfz0",
        "colab_type": "code",
        "colab": {
          "base_uri": "https://localhost:8080/",
          "height": 34
        },
        "outputId": "ed5750e2-e06a-43ab-e7c7-b67352357846"
      },
      "source": [
        "c=torch.tensor(5)\n",
        "print(b)"
      ],
      "execution_count": null,
      "outputs": [
        {
          "output_type": "stream",
          "text": [
            "tensor(1)\n"
          ],
          "name": "stdout"
        }
      ]
    },
    {
      "cell_type": "code",
      "metadata": {
        "id": "-S-EeiLWpv-Z",
        "colab_type": "code",
        "colab": {
          "base_uri": "https://localhost:8080/",
          "height": 178
        },
        "outputId": "673cc6af-9c31-4f69-f196-cb9028a92dd2"
      },
      "source": [
        "import torch\n",
        "torch.cat((c,b),dim=1)"
      ],
      "execution_count": null,
      "outputs": [
        {
          "output_type": "error",
          "ename": "RuntimeError",
          "evalue": "ignored",
          "traceback": [
            "\u001b[0;31m---------------------------------------------------------------------------\u001b[0m",
            "\u001b[0;31mRuntimeError\u001b[0m                              Traceback (most recent call last)",
            "\u001b[0;32m<ipython-input-33-72c19554b348>\u001b[0m in \u001b[0;36m<module>\u001b[0;34m()\u001b[0m\n\u001b[1;32m      1\u001b[0m \u001b[0;32mimport\u001b[0m \u001b[0mtorch\u001b[0m\u001b[0;34m\u001b[0m\u001b[0;34m\u001b[0m\u001b[0m\n\u001b[0;32m----> 2\u001b[0;31m \u001b[0mtorch\u001b[0m\u001b[0;34m.\u001b[0m\u001b[0mcat\u001b[0m\u001b[0;34m(\u001b[0m\u001b[0;34m(\u001b[0m\u001b[0mc\u001b[0m\u001b[0;34m,\u001b[0m\u001b[0mb\u001b[0m\u001b[0;34m)\u001b[0m\u001b[0;34m,\u001b[0m\u001b[0mdim\u001b[0m\u001b[0;34m=\u001b[0m\u001b[0;36m1\u001b[0m\u001b[0;34m)\u001b[0m\u001b[0;34m\u001b[0m\u001b[0;34m\u001b[0m\u001b[0m\n\u001b[0m",
            "\u001b[0;31mRuntimeError\u001b[0m: zero-dimensional tensor (at position 0) cannot be concatenated"
          ]
        }
      ]
    },
    {
      "cell_type": "code",
      "metadata": {
        "id": "rZ6AZZgoqUiV",
        "colab_type": "code",
        "colab": {}
      },
      "source": [
        "x=np.array([[1,3,4],[9,9,8]])"
      ],
      "execution_count": 10,
      "outputs": []
    },
    {
      "cell_type": "code",
      "metadata": {
        "id": "dmAdXHwBq9Fe",
        "colab_type": "code",
        "colab": {
          "base_uri": "https://localhost:8080/",
          "height": 52
        },
        "outputId": "5e5c3321-e9d2-47d6-e029-bd18ac0289f6"
      },
      "source": [
        "tensor=torch.from_numpy(x)\n",
        "print(x)"
      ],
      "execution_count": 11,
      "outputs": [
        {
          "output_type": "stream",
          "text": [
            "[[1 3 4]\n",
            " [9 9 8]]\n"
          ],
          "name": "stdout"
        }
      ]
    },
    {
      "cell_type": "code",
      "metadata": {
        "id": "jzxn0SfhrKyl",
        "colab_type": "code",
        "colab": {
          "base_uri": "https://localhost:8080/",
          "height": 52
        },
        "outputId": "889d274a-f93d-4e82-f7ca-246d35212ad7"
      },
      "source": [
        "n =torch.randn(2,4)\n",
        "print(n)"
      ],
      "execution_count": 12,
      "outputs": [
        {
          "output_type": "stream",
          "text": [
            "tensor([[ 0.9307, -0.3482,  0.8855, -0.4909],\n",
            "        [-0.4273,  0.9385,  1.1841,  0.5234]])\n"
          ],
          "name": "stdout"
        }
      ]
    },
    {
      "cell_type": "code",
      "metadata": {
        "id": "UVobJg1e-wy5",
        "colab_type": "code",
        "colab": {
          "base_uri": "https://localhost:8080/",
          "height": 52
        },
        "outputId": "268183fe-4926-45ef-ac24-a73b038fe94f"
      },
      "source": [
        "m=torch.ones((2,2),requires_grad=True)\n",
        "print(m)"
      ],
      "execution_count": 13,
      "outputs": [
        {
          "output_type": "stream",
          "text": [
            "tensor([[1., 1.],\n",
            "        [1., 1.]], requires_grad=True)\n"
          ],
          "name": "stdout"
        }
      ]
    },
    {
      "cell_type": "code",
      "metadata": {
        "id": "G2PWzEEY_Aq2",
        "colab_type": "code",
        "colab": {
          "base_uri": "https://localhost:8080/",
          "height": 70
        },
        "outputId": "6b4829cb-9c25-4c5a-b7e1-cfef13002022"
      },
      "source": [
        "b=m+5\n",
        "c=b.mean()\n",
        "print(b,m)"
      ],
      "execution_count": 14,
      "outputs": [
        {
          "output_type": "stream",
          "text": [
            "tensor([[6., 6.],\n",
            "        [6., 6.]], grad_fn=<AddBackward0>) tensor([[1., 1.],\n",
            "        [1., 1.]], requires_grad=True)\n"
          ],
          "name": "stdout"
        }
      ]
    },
    {
      "cell_type": "code",
      "metadata": {
        "id": "OkC_wHMb_Yv2",
        "colab_type": "code",
        "colab": {}
      },
      "source": [
        "c.backward()"
      ],
      "execution_count": 15,
      "outputs": []
    },
    {
      "cell_type": "code",
      "metadata": {
        "id": "RcqqskMn_3W_",
        "colab_type": "code",
        "colab": {
          "base_uri": "https://localhost:8080/",
          "height": 52
        },
        "outputId": "7a461e8a-feb7-43f4-dc98-cac544a05e8a"
      },
      "source": [
        "print(m.grad)"
      ],
      "execution_count": 16,
      "outputs": [
        {
          "output_type": "stream",
          "text": [
            "tensor([[0.2500, 0.2500],\n",
            "        [0.2500, 0.2500]])\n"
          ],
          "name": "stdout"
        }
      ]
    },
    {
      "cell_type": "code",
      "metadata": {
        "id": "uU37NuS7BC5z",
        "colab_type": "code",
        "colab": {}
      },
      "source": [
        "##from torch import optim\n",
        "##adam=optim.Adam(model.parameters(),lr=)"
      ],
      "execution_count": 17,
      "outputs": []
    },
    {
      "cell_type": "code",
      "metadata": {
        "id": "rYiFh0fVBZ1n",
        "colab_type": "code",
        "colab": {
          "base_uri": "https://localhost:8080/",
          "height": 141
        },
        "outputId": "fa9128a7-ec85-467c-8f0b-a34d51c9724d"
      },
      "source": [
        "x=torch.Tensor([[1,0,1,1],[1,0,1,0],[0,1,0,1]])\n",
        "y=torch.Tensor([[1,1,0,1]])\n",
        "print(x,'\\n')\n",
        "print(y)\n",
        "print(x.shape)\n",
        "print(y.shape)"
      ],
      "execution_count": 42,
      "outputs": [
        {
          "output_type": "stream",
          "text": [
            "tensor([[1., 0., 1., 1.],\n",
            "        [1., 0., 1., 0.],\n",
            "        [0., 1., 0., 1.]]) \n",
            "\n",
            "tensor([[1., 1., 0., 1.]])\n",
            "torch.Size([3, 4])\n",
            "torch.Size([1, 4])\n"
          ],
          "name": "stdout"
        }
      ]
    },
    {
      "cell_type": "code",
      "metadata": {
        "id": "XEw9jd7PCkN6",
        "colab_type": "code",
        "colab": {}
      },
      "source": [
        "def sigmoid(x):\n",
        "  return 1/(1+torch.exp(-x))\n",
        "\n",
        "def derivative_sig(x):\n",
        "  return sigmoid(x)*(1-sigmoid(x))"
      ],
      "execution_count": 31,
      "outputs": []
    },
    {
      "cell_type": "code",
      "metadata": {
        "id": "SUziBftFF56i",
        "colab_type": "code",
        "colab": {}
      },
      "source": [
        "epoch=7000\n",
        "lr=.1\n",
        "inputlayer_neurons=x.shape[1]\n",
        "hidden_layer=3\n",
        "outlayer_neurons=1\n"
      ],
      "execution_count": 27,
      "outputs": []
    },
    {
      "cell_type": "code",
      "metadata": {
        "id": "-VRXhGmQDWY5",
        "colab_type": "code",
        "colab": {}
      },
      "source": [
        "##weight and bias initialisation initialisation\n",
        "weight=torch.randn(inputlayer_neurons,hidden_layer).type(torch.FloatTensor)\n",
        "bias=torch.randn(1,hidden_layer).type(torch.FloatTensor)\n",
        "output_weight=torch.randn(hidden_layer,outlayer_neurons)\n",
        "output_bias=torch.randn(1,outlayer_neurons)"
      ],
      "execution_count": 28,
      "outputs": []
    },
    {
      "cell_type": "code",
      "metadata": {
        "id": "sZowZULcFzCM",
        "colab_type": "code",
        "colab": {
          "base_uri": "https://localhost:8080/",
          "height": 239
        },
        "outputId": "ae7b47dd-39a3-4aa5-8608-2190523271b8"
      },
      "source": [
        "for i in range(epoch):\n",
        "  #forwordpropagation\n",
        "  hiddenlayer__input1=torch.mm(x,weight)\n",
        "  hiddenlayer__input=hiddenlayer__input1+bias\n",
        "  hiddenlayer__input_activation=sigmoid(hiddenlayer__input)\n",
        "\n",
        "  outputlayer_input1=torch.mm(hiddenlayer__input_activation,output_weight)\n",
        "  outputlayer_input=outputlayer_input1+output_bias\n",
        "  output=sigmoid(outputlayer_input)\n",
        "\n",
        "\n",
        "  #backpropagation\n",
        "  E=y-output\n",
        "  slope_output_layer=derivative_sig(output)\n",
        "  slope_hidden_layer=derivative_sig(hiddenlayer__input_activation)\n",
        "  d_output=E*slope_output_layer\n",
        "  error_at_hidden_layer=torch.mm(d_output,output_weight.t())\n",
        "  d_hiddenlayer=error_at_hidden_layer*slope_hidden_layer\n",
        "  \n",
        "  output_weight+=torch.mm(hiddenlayer__input_activation)\n",
        "  output_bias+=d_output.sum()*lr\n",
        "  weight+=torch.mm(x.t(),d_hiddenlayer)*lr\n",
        "  bias+=d_output.sum()*lr"
      ],
      "execution_count": 43,
      "outputs": [
        {
          "output_type": "error",
          "ename": "RuntimeError",
          "evalue": "ignored",
          "traceback": [
            "\u001b[0;31m---------------------------------------------------------------------------\u001b[0m",
            "\u001b[0;31mRuntimeError\u001b[0m                              Traceback (most recent call last)",
            "\u001b[0;32m<ipython-input-43-155cc9bc09f3>\u001b[0m in \u001b[0;36m<module>\u001b[0;34m()\u001b[0m\n\u001b[1;32m     15\u001b[0m   \u001b[0mslope_hidden_layer\u001b[0m\u001b[0;34m=\u001b[0m\u001b[0mderivative_sig\u001b[0m\u001b[0;34m(\u001b[0m\u001b[0mhiddenlayer__input_activation\u001b[0m\u001b[0;34m)\u001b[0m\u001b[0;34m\u001b[0m\u001b[0;34m\u001b[0m\u001b[0m\n\u001b[1;32m     16\u001b[0m   \u001b[0md_output\u001b[0m\u001b[0;34m=\u001b[0m\u001b[0mE\u001b[0m\u001b[0;34m*\u001b[0m\u001b[0mslope_output_layer\u001b[0m\u001b[0;34m\u001b[0m\u001b[0;34m\u001b[0m\u001b[0m\n\u001b[0;32m---> 17\u001b[0;31m   \u001b[0merror_at_hidden_layer\u001b[0m\u001b[0;34m=\u001b[0m\u001b[0mtorch\u001b[0m\u001b[0;34m.\u001b[0m\u001b[0mmm\u001b[0m\u001b[0;34m(\u001b[0m\u001b[0md_output\u001b[0m\u001b[0;34m,\u001b[0m\u001b[0moutput_weight\u001b[0m\u001b[0;34m.\u001b[0m\u001b[0mt\u001b[0m\u001b[0;34m(\u001b[0m\u001b[0;34m)\u001b[0m\u001b[0;34m)\u001b[0m\u001b[0;34m\u001b[0m\u001b[0;34m\u001b[0m\u001b[0m\n\u001b[0m\u001b[1;32m     18\u001b[0m   \u001b[0md_hiddenlayer\u001b[0m\u001b[0;34m=\u001b[0m\u001b[0merror_at_hidden_layer\u001b[0m\u001b[0;34m*\u001b[0m\u001b[0mslope_hidden_layer\u001b[0m\u001b[0;34m\u001b[0m\u001b[0;34m\u001b[0m\u001b[0m\n\u001b[1;32m     19\u001b[0m \u001b[0;34m\u001b[0m\u001b[0m\n",
            "\u001b[0;31mRuntimeError\u001b[0m: size mismatch, m1: [3 x 4], m2: [1 x 3] at /pytorch/aten/src/TH/generic/THTensorMath.cpp:41"
          ]
        }
      ]
    },
    {
      "cell_type": "code",
      "metadata": {
        "id": "adpq1M3tFkJL",
        "colab_type": "code",
        "colab": {}
      },
      "source": [
        "print('ACTUAL:\\n',y)\n",
        "print('PRIDICTED:\\n',output)"
      ],
      "execution_count": null,
      "outputs": []
    },
    {
      "cell_type": "code",
      "metadata": {
        "id": "SQ0NnPaLWmU1",
        "colab_type": "code",
        "colab": {}
      },
      "source": [
        ""
      ],
      "execution_count": null,
      "outputs": []
    }
  ]
}