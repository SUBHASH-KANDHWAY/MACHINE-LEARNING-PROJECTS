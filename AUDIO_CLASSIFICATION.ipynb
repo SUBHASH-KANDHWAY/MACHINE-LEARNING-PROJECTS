{
  "nbformat": 4,
  "nbformat_minor": 0,
  "metadata": {
    "colab": {
      "name": "AUDIO_CLASSIFICATION.ipynb",
      "provenance": [],
      "authorship_tag": "ABX9TyP6mx5GidNjEs0B2djGaNDB",
      "include_colab_link": true
    },
    "kernelspec": {
      "name": "python3",
      "display_name": "Python 3"
    }
  },
  "cells": [
    {
      "cell_type": "markdown",
      "metadata": {
        "id": "view-in-github",
        "colab_type": "text"
      },
      "source": [
        "<a href=\"https://colab.research.google.com/github/SUBHASH-KANDHWAY/MACHINE-LEARNING-PROJECTS/blob/master/AUDIO_CLASSIFICATION.ipynb\" target=\"_parent\"><img src=\"https://colab.research.google.com/assets/colab-badge.svg\" alt=\"Open In Colab\"/></a>"
      ]
    },
    {
      "cell_type": "markdown",
      "metadata": {
        "id": "K9gYjtHNZaVI"
      },
      "source": [
        "*** AUDIO ANALYSIS*** FOR AUDIO CLASSIFICATION***"
      ]
    },
    {
      "cell_type": "code",
      "metadata": {
        "id": "Evwl1HBEZX0e"
      },
      "source": [
        "import IPython.display as ipd\n",
        "ipd.Audio('../data/Train/2022.wav')"
      ],
      "execution_count": null,
      "outputs": []
    },
    {
      "cell_type": "markdown",
      "metadata": {
        "id": "dWnR1LK8ZVKn"
      },
      "source": [
        ""
      ]
    },
    {
      "cell_type": "code",
      "metadata": {
        "id": "9tS9asZeWc_l"
      },
      "source": [
        "pip install librosa\n",
        "data, sampling_rate = librosa.load('../data/Train/2022.wav')\n",
        "% pylab inline\n",
        "import os\n",
        "import pandas as pd\n",
        "import librosa\n",
        "import glob \n",
        "\n",
        "plt.figure(figsize=(12, 4))\n",
        "librosa.display.waveplot(data, sr=sampling_rate)\n",
        "i = random.choice(train.index)\n",
        "\n",
        "audio_name = train.ID[i]\n",
        "path = os.path.join(data_dir, 'Train', str(audio_name) + '.wav')\n",
        "\n",
        "print('Class: ', train.Class[i])\n",
        "x, sr = librosa.load('../data/Train/' + str(train.ID[i]) + '.wav')\n",
        "\n",
        "plt.figure(figsize=(12, 4))\n",
        "librosa.display.waveplot(x, sr=sr)\n",
        "train.Class.value_counts()\n",
        "def parser(row):\n",
        "   # function to load files and extract features\n",
        "   file_name = os.path.join(os.path.abspath(data_dir), 'Train', str(row.ID) + '.wav')\n",
        "\n",
        "   # handle exception to check if there isn't a file which is corrupted\n",
        "   try:\n",
        "      # here kaiser_fast is a technique used for faster extraction\n",
        "      X, sample_rate = librosa.load(file_name, res_type='kaiser_fast') \n",
        "      # we extract mfcc feature from data\n",
        "      mfccs = np.mean(librosa.feature.mfcc(y=X, sr=sample_rate, n_mfcc=40).T,axis=0) \n",
        "   except Exception as e:\n",
        "      print(\"Error encountered while parsing file: \", file)\n",
        "      return None, None\n",
        " \n",
        "   feature = mfccs\n",
        "   label = row.Class\n",
        " \n",
        "   return [feature, label]\n",
        "\n",
        "temp = train.apply(parser, axis=1)\n",
        "temp.columns = ['feature', 'label']\n",
        "from sklearn.preprocessing import LabelEncoder\n",
        "\n",
        "X = np.array(temp.feature.tolist())\n",
        "y = np.array(temp.label.tolist())\n",
        "\n",
        "lb = LabelEncoder()\n",
        "\n",
        "y = np_utils.to_categorical(lb.fit_transform(y))\n",
        "\n",
        "\n",
        "\n",
        "import numpy as np\n",
        "from keras.models import Sequential\n",
        "from keras.layers import Dense, Dropout, Activation, Flatten\n",
        "from keras.layers import Convolution2D, MaxPooling2D\n",
        "from keras.optimizers import Adam\n",
        "from keras.utils import np_utils\n",
        "from sklearn import metrics \n",
        "\n",
        "num_labels = y.shape[1]\n",
        "filter_size = 2\n",
        "\n",
        "# build model\n",
        "model = Sequential()\n",
        "\n",
        "model.add(Dense(256, input_shape=(40,)))\n",
        "model.add(Activation('relu'))\n",
        "model.add(Dropout(0.5))\n",
        "\n",
        "model.add(Dense(256))\n",
        "model.add(Activation('relu'))\n",
        "model.add(Dropout(0.5))\n",
        "\n",
        "model.add(Dense(num_labels))\n",
        "model.add(Activation('softmax'))\n",
        "\n",
        "model.compile(loss='categorical_crossentropy', metrics=['accuracy'], optimizer='adam')\n",
        "\n",
        "\n",
        "\n",
        "model.fit(X, y, batch_size=32, epochs=5, validation_data=(val_x, val_y))"
      ],
      "execution_count": null,
      "outputs": []
    }
  ]
}